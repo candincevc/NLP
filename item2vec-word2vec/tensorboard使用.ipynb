{
 "cells": [
  {
   "cell_type": "markdown",
   "metadata": {},
   "source": [
    "### 1 在jupyter中加载tensorboard及tensorflow 函数\n",
    "- 需确认是否安装tensorboard,若没有安装，在命令行中执行pip install tensorboard"
   ]
  },
  {
   "cell_type": "code",
   "execution_count": 33,
   "metadata": {},
   "outputs": [
    {
     "name": "stdout",
     "output_type": "stream",
     "text": [
      "The tensorboard extension is already loaded. To reload it, use:\n",
      "  %reload_ext tensorboard\n"
     ]
    }
   ],
   "source": [
    "%load_ext tensorboard"
   ]
  },
  {
   "cell_type": "code",
   "execution_count": 19,
   "metadata": {},
   "outputs": [],
   "source": [
    "import tensorflow as tf\n",
    "import datetime"
   ]
  },
  {
   "cell_type": "code",
   "execution_count": 34,
   "metadata": {},
   "outputs": [],
   "source": [
    "!rm -r ./logs/ #清除当前文件下的logs文件"
   ]
  },
  {
   "cell_type": "markdown",
   "metadata": {},
   "source": [
    "### 2 获取数据集"
   ]
  },
  {
   "cell_type": "code",
   "execution_count": 36,
   "metadata": {},
   "outputs": [],
   "source": [
    "mnist = tf.keras.datasets.mnist #直接从tf里获取手写数字识别数据\n",
    "\n",
    "(x_train, y_train),(x_test, y_test) = mnist.load_data()\n",
    "x_train, x_test = x_train / 255.0, x_test / 255.0\n",
    "\n",
    "def create_model():\n",
    "    '''\n",
    "        创建一个全链接的序列模型\n",
    "    '''\n",
    "    return tf.keras.models.Sequential([\n",
    "        tf.keras.layers.Flatten(input_shape=(28, 28)),\n",
    "        tf.keras.layers.Dense(512, activation='relu'),\n",
    "        tf.keras.layers.Dropout(0.2),\n",
    "        tf.keras.layers.Dense(10, activation='softmax')\n",
    "      ])"
   ]
  },
  {
   "cell_type": "code",
   "execution_count": 37,
   "metadata": {},
   "outputs": [
    {
     "name": "stdout",
     "output_type": "stream",
     "text": [
      "WARNING:tensorflow:Failed to read source code from path: /Users/vccandice/Documents/myGithub/item2vec/<ipython-input-37-11cac341e147>. Reason: Source path neither exists nor can be loaded as a .par file: /Users/vccandice/Documents/myGithub/item2vec/<ipython-input-37-11cac341e147>\n",
      "WARNING:tensorflow:Failed to read source code from path: /Users/vccandice/Documents/myGithub/item2vec/<ipython-input-36-9c8e011d6626>. Reason: Source path neither exists nor can be loaded as a .par file: /Users/vccandice/Documents/myGithub/item2vec/<ipython-input-36-9c8e011d6626>\n"
     ]
    }
   ],
   "source": [
    "model = create_model()\n",
    "# 指定模型的优化算法、loss function、评估指标\n",
    "model.compile(optimizer='adam',\n",
    "              loss='sparse_categorical_crossentropy',\n",
    "              metrics=['accuracy'])"
   ]
  },
  {
   "cell_type": "code",
   "execution_count": 39,
   "metadata": {},
   "outputs": [],
   "source": [
    "# 生成日志文件名称\n",
    "log_dir = \"./logs/fit/\" + datetime.datetime.now().strftime(\"%Y%m%d-%H%M%S\")"
   ]
  },
  {
   "cell_type": "code",
   "execution_count": 24,
   "metadata": {},
   "outputs": [
    {
     "data": {
      "text/plain": [
       "'/Users/vccandice/Documents/myGithub/item2vec'"
      ]
     },
     "execution_count": 24,
     "metadata": {},
     "output_type": "execute_result"
    }
   ],
   "source": [
    "pwd"
   ]
  },
  {
   "cell_type": "code",
   "execution_count": 25,
   "metadata": {},
   "outputs": [
    {
     "data": {
      "text/plain": [
       "'./logs/fit/20210407-072246'"
      ]
     },
     "execution_count": 25,
     "metadata": {},
     "output_type": "execute_result"
    }
   ],
   "source": [
    "log_dir"
   ]
  },
  {
   "cell_type": "code",
   "execution_count": 30,
   "metadata": {},
   "outputs": [],
   "source": [
    "# 创建tensorboard 的callback\n",
    "tensorboard_callback = tf.keras.callbacks.TensorBoard(log_dir=log_dir, histogram_freq=1)"
   ]
  },
  {
   "cell_type": "code",
   "execution_count": 31,
   "metadata": {},
   "outputs": [
    {
     "name": "stdout",
     "output_type": "stream",
     "text": [
      "WARNING:tensorflow:Failed to read source code from path: /Users/vccandice/Documents/myGithub/item2vec/<ipython-input-31-bc7969253e50>. Reason: Source path neither exists nor can be loaded as a .par file: /Users/vccandice/Documents/myGithub/item2vec/<ipython-input-31-bc7969253e50>\n",
      "Epoch 1/5\n",
      "1875/1875 [==============================] - 52s 27ms/step - loss: 0.3621 - accuracy: 0.8939 - val_loss: 0.1217 - val_accuracy: 0.9612\n",
      "Epoch 2/5\n",
      "1875/1875 [==============================] - 52s 28ms/step - loss: 0.0997 - accuracy: 0.9696 - val_loss: 0.0866 - val_accuracy: 0.9736\n",
      "Epoch 3/5\n",
      "1875/1875 [==============================] - 50s 27ms/step - loss: 0.0672 - accuracy: 0.9795 - val_loss: 0.0666 - val_accuracy: 0.9789\n",
      "Epoch 4/5\n",
      "1875/1875 [==============================] - 51s 27ms/step - loss: 0.0493 - accuracy: 0.9856 - val_loss: 0.0674 - val_accuracy: 0.9791\n",
      "Epoch 5/5\n",
      "1875/1875 [==============================] - 50s 27ms/step - loss: 0.0395 - accuracy: 0.9877 - val_loss: 0.0681 - val_accuracy: 0.9819\n"
     ]
    },
    {
     "data": {
      "text/plain": [
       "<tensorflow.python.keras.callbacks.History at 0x7ff02cf7ad60>"
      ]
     },
     "execution_count": 31,
     "metadata": {},
     "output_type": "execute_result"
    }
   ],
   "source": [
    "# 模型训练\n",
    "model.fit(x=x_train, \n",
    "          y=y_train, \n",
    "          epochs=5, \n",
    "          validation_data=(x_test, y_test), \n",
    "          callbacks=[tensorboard_callback]) #加入tensorboard 的callback"
   ]
  },
  {
   "cell_type": "code",
   "execution_count": 40,
   "metadata": {},
   "outputs": [
    {
     "name": "stderr",
     "output_type": "stream",
     "text": [
      "UsageError: Line magic function `%` not found.\n"
     ]
    }
   ],
   "source": [
    "## 在命令行中log所在的位置执行如下命令\n",
    "% tensorboard --logdir ./logs/fit"
   ]
  },
  {
   "cell_type": "code",
   "execution_count": null,
   "metadata": {},
   "outputs": [],
   "source": []
  }
 ],
 "metadata": {
  "kernelspec": {
   "display_name": "Python 3",
   "language": "python",
   "name": "python3"
  },
  "language_info": {
   "codemirror_mode": {
    "name": "ipython",
    "version": 3
   },
   "file_extension": ".py",
   "mimetype": "text/x-python",
   "name": "python",
   "nbconvert_exporter": "python",
   "pygments_lexer": "ipython3",
   "version": "3.8.3"
  }
 },
 "nbformat": 4,
 "nbformat_minor": 4
}
